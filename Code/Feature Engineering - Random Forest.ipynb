{
 "cells": [
  {
   "cell_type": "markdown",
   "metadata": {},
   "source": [
    "<h1>Feature Engineering & Random Forest Model Training</h1>\n",
    "Author: Joshua White  \n",
    "\n",
    "This notebook will handle the feature engineering for my CSCE 623 project. The steps followed are:  \n",
    "1. **Label coding**: creation of a dictionaryto map each category to a code.  \n",
    "2. **Text representation**: use of TF-IDF scores to represent the text.  \n",
    "\n",
    "A number of things have already been done to the data set before this process happens. First the actual text was cleaned to include removing of any html tags, turned to lowercase, punctuation was removed, tokenized, and lemmatization. Then the entire data set was split into a 80-20% split of training and test data. Then that training subset was split up into training and validation subsets for k-fold cross validation, with k = 5.\n",
    "\n",
    "After this the TF-IDF vectors are used to train a Random Forest Model. \n",
    "\n",
    "**Source**: \n",
    "I used the following article for a lot of this process: \n",
    "https://towardsdatascience.com/text-classification-in-python-dd95d264c802"
   ]
  },
  {
   "cell_type": "code",
   "execution_count": 1,
   "metadata": {},
   "outputs": [],
   "source": [
    "import pickle\n",
    "import pandas as pd\n",
    "import re\n",
    "import matplotlib.pyplot as plt\n",
    "import seaborn as sns\n",
    "import pandas as pd\n",
    "import numpy as np\n",
    "from sklearn.feature_extraction.text import TfidfVectorizer\n",
    "from sklearn.model_selection import train_test_split\n",
    "from sklearn.feature_selection import chi2\n",
    "from sklearn.ensemble import RandomForestClassifier\n",
    "from pprint import pprint\n",
    "from sklearn.model_selection import RandomizedSearchCV\n",
    "from sklearn.model_selection import GridSearchCV\n",
    "from sklearn.metrics import classification_report, confusion_matrix, accuracy_score\n",
    "from sklearn.model_selection import ShuffleSplit"
   ]
  },
  {
   "cell_type": "code",
   "execution_count": 2,
   "metadata": {},
   "outputs": [],
   "source": [
    "# Setting up some variables to be used:\n",
    "input_training = \"training_data_nyc-jobs.csv\"\n",
    "\n",
    "input_training_0 = \"training_set_0.csv\"\n",
    "input_training_1 = \"training_set_1.csv\"\n",
    "input_training_2 = \"training_set_2.csv\"\n",
    "input_training_3 = \"training_set_3.csv\"\n",
    "input_training_4 = \"training_set_4.csv\"\n",
    "\n",
    "input_validation_0 = \"validation_set_0.csv\"\n",
    "input_validation_1 = \"validation_set_1.csv\"\n",
    "input_validation_2 = \"validation_set_2.csv\"\n",
    "input_validation_3 = \"validation_set_3.csv\"\n",
    "input_validation_4 = \"validation_set_4.csv\"\n",
    "\n",
    "input_test = \"test_data_nyc-jobs.csv\"\n",
    "\n",
    "# Load the first training and validation sets into a data frame\n",
    "DF_train = pd.read_csv(input_training)\n",
    "DF_test = pd.read_csv(input_test)"
   ]
  },
  {
   "cell_type": "code",
   "execution_count": 3,
   "metadata": {},
   "outputs": [
    {
     "data": {
      "text/html": [
       "<div>\n",
       "<style scoped>\n",
       "    .dataframe tbody tr th:only-of-type {\n",
       "        vertical-align: middle;\n",
       "    }\n",
       "\n",
       "    .dataframe tbody tr th {\n",
       "        vertical-align: top;\n",
       "    }\n",
       "\n",
       "    .dataframe thead th {\n",
       "        text-align: right;\n",
       "    }\n",
       "</style>\n",
       "<table border=\"1\" class=\"dataframe\">\n",
       "  <thead>\n",
       "    <tr style=\"text-align: right;\">\n",
       "      <th></th>\n",
       "      <th>job_id</th>\n",
       "      <th>agency</th>\n",
       "      <th>posting_type</th>\n",
       "      <th>no_of_positions</th>\n",
       "      <th>business_title</th>\n",
       "      <th>civil_service_title</th>\n",
       "      <th>title_code_no</th>\n",
       "      <th>level</th>\n",
       "      <th>job_category</th>\n",
       "      <th>category</th>\n",
       "      <th>...</th>\n",
       "      <th>additional_information</th>\n",
       "      <th>to_apply</th>\n",
       "      <th>hours_shift</th>\n",
       "      <th>work_location_1</th>\n",
       "      <th>residency_requirement</th>\n",
       "      <th>posting_date</th>\n",
       "      <th>post_until</th>\n",
       "      <th>posting_updated</th>\n",
       "      <th>process_date</th>\n",
       "      <th>processed_text</th>\n",
       "    </tr>\n",
       "  </thead>\n",
       "  <tbody>\n",
       "    <tr>\n",
       "      <th>0</th>\n",
       "      <td>424627</td>\n",
       "      <td>DEPARTMENT OF TRANSPORTATION</td>\n",
       "      <td>Internal</td>\n",
       "      <td>3</td>\n",
       "      <td>Capital Budget Analyst</td>\n",
       "      <td>ASSOCIATE STAFF ANALYST</td>\n",
       "      <td>12627</td>\n",
       "      <td>0</td>\n",
       "      <td>Finance, Accounting, &amp; Procurement</td>\n",
       "      <td>7</td>\n",
       "      <td>...</td>\n",
       "      <td>***IN ORDER TO BE CONSIDERED FOR THIS POSITION...</td>\n",
       "      <td>All resumes to be submitted electronically usi...</td>\n",
       "      <td>Office Hours: 9AM-5PM</td>\n",
       "      <td>55 Water St Ny Ny</td>\n",
       "      <td>New York City residency is generally required ...</td>\n",
       "      <td>2019-12-06T00:00:00.000</td>\n",
       "      <td>2019-12-26T00:00:00.000</td>\n",
       "      <td>2019-12-06T00:00:00.000</td>\n",
       "      <td>2019-12-17T00:00:00.000</td>\n",
       "      <td>capital budget analyst order considered positi...</td>\n",
       "    </tr>\n",
       "    <tr>\n",
       "      <th>1</th>\n",
       "      <td>423479</td>\n",
       "      <td>POLICE DEPARTMENT</td>\n",
       "      <td>Internal</td>\n",
       "      <td>2</td>\n",
       "      <td>City Custodial Assistant</td>\n",
       "      <td>CITY CUSTODIAL ASSISTANT</td>\n",
       "      <td>90644</td>\n",
       "      <td>0</td>\n",
       "      <td>Building Operations &amp; Maintenance</td>\n",
       "      <td>2</td>\n",
       "      <td>...</td>\n",
       "      <td>This lateral opportunity is open to current Ci...</td>\n",
       "      <td>Please submit your resume and cover letter.  P...</td>\n",
       "      <td>Shift depends on the Command.</td>\n",
       "      <td>Positions are available in the following comma...</td>\n",
       "      <td>New York City residency is generally required ...</td>\n",
       "      <td>2019-12-09T00:00:00.000</td>\n",
       "      <td>2020-01-23T00:00:00.000</td>\n",
       "      <td>2019-12-13T00:00:00.000</td>\n",
       "      <td>2019-12-17T00:00:00.000</td>\n",
       "      <td>city custodial assistant candidate selected re...</td>\n",
       "    </tr>\n",
       "    <tr>\n",
       "      <th>2</th>\n",
       "      <td>376405</td>\n",
       "      <td>NYC HOUSING AUTHORITY</td>\n",
       "      <td>Internal</td>\n",
       "      <td>1</td>\n",
       "      <td>Assistant Director for LHD Budget &amp; Personnel</td>\n",
       "      <td>ADMINISTRATIVE STAFF ANALYST (</td>\n",
       "      <td>1002D</td>\n",
       "      <td>0</td>\n",
       "      <td>Administration &amp; Human Resources Policy, Resea...</td>\n",
       "      <td>1</td>\n",
       "      <td>...</td>\n",
       "      <td>Employees applying for promotional, title or l...</td>\n",
       "      <td>Click the \"Apply Now\" button.</td>\n",
       "      <td>0</td>\n",
       "      <td>0</td>\n",
       "      <td>NYCHA has no residency requirements.</td>\n",
       "      <td>2019-05-21T00:00:00.000</td>\n",
       "      <td>0</td>\n",
       "      <td>2019-07-30T00:00:00.000</td>\n",
       "      <td>2019-12-17T00:00:00.000</td>\n",
       "      <td>assistant director budget personnel financial ...</td>\n",
       "    </tr>\n",
       "    <tr>\n",
       "      <th>3</th>\n",
       "      <td>397520</td>\n",
       "      <td>DEPT OF ENVIRONMENT PROTECTION</td>\n",
       "      <td>Internal</td>\n",
       "      <td>2</td>\n",
       "      <td>Plant Chief</td>\n",
       "      <td>SENIOR STATIONARY ENGINEER (EL</td>\n",
       "      <td>91639</td>\n",
       "      <td>0</td>\n",
       "      <td>Engineering, Architecture, &amp; Planning</td>\n",
       "      <td>6</td>\n",
       "      <td>...</td>\n",
       "      <td>Appointments are subject to OMB approval.  For...</td>\n",
       "      <td>Click \"Apply Now\" button</td>\n",
       "      <td>40 hours per week/day</td>\n",
       "      <td>Citywide</td>\n",
       "      <td>New York City residency is generally required ...</td>\n",
       "      <td>2019-06-10T00:00:00.000</td>\n",
       "      <td>0</td>\n",
       "      <td>2019-06-21T00:00:00.000</td>\n",
       "      <td>2019-12-17T00:00:00.000</td>\n",
       "      <td>plant chief department environmental protectio...</td>\n",
       "    </tr>\n",
       "    <tr>\n",
       "      <th>4</th>\n",
       "      <td>425079</td>\n",
       "      <td>DEPT OF ENVIRONMENT PROTECTION</td>\n",
       "      <td>Internal</td>\n",
       "      <td>1</td>\n",
       "      <td>Bureau Energy Manager</td>\n",
       "      <td>CITY RESEARCH SCIENTIST</td>\n",
       "      <td>21744</td>\n",
       "      <td>3</td>\n",
       "      <td>Engineering, Architecture, &amp; Planning Policy, ...</td>\n",
       "      <td>6</td>\n",
       "      <td>...</td>\n",
       "      <td>DEP is an equal opportunity employer with a st...</td>\n",
       "      <td>Click on â€œApply Nowâ€ and submit a resume a...</td>\n",
       "      <td>35 hours per week</td>\n",
       "      <td>59-17 Junction Blvd, Corona NY</td>\n",
       "      <td>New York City residency is generally required ...</td>\n",
       "      <td>2019-12-10T00:00:00.000</td>\n",
       "      <td>0</td>\n",
       "      <td>2019-12-10T00:00:00.000</td>\n",
       "      <td>2019-12-17T00:00:00.000</td>\n",
       "      <td>bureau energy manager department environmental...</td>\n",
       "    </tr>\n",
       "  </tbody>\n",
       "</table>\n",
       "<p>5 rows × 29 columns</p>\n",
       "</div>"
      ],
      "text/plain": [
       "   job_id                          agency posting_type  no_of_positions  \\\n",
       "0  424627    DEPARTMENT OF TRANSPORTATION     Internal                3   \n",
       "1  423479               POLICE DEPARTMENT     Internal                2   \n",
       "2  376405           NYC HOUSING AUTHORITY     Internal                1   \n",
       "3  397520  DEPT OF ENVIRONMENT PROTECTION     Internal                2   \n",
       "4  425079  DEPT OF ENVIRONMENT PROTECTION     Internal                1   \n",
       "\n",
       "                                  business_title  \\\n",
       "0                         Capital Budget Analyst   \n",
       "1                       City Custodial Assistant   \n",
       "2  Assistant Director for LHD Budget & Personnel   \n",
       "3                                    Plant Chief   \n",
       "4                          Bureau Energy Manager   \n",
       "\n",
       "              civil_service_title title_code_no level  \\\n",
       "0         ASSOCIATE STAFF ANALYST         12627     0   \n",
       "1        CITY CUSTODIAL ASSISTANT         90644     0   \n",
       "2  ADMINISTRATIVE STAFF ANALYST (         1002D     0   \n",
       "3  SENIOR STATIONARY ENGINEER (EL         91639     0   \n",
       "4         CITY RESEARCH SCIENTIST         21744     3   \n",
       "\n",
       "                                        job_category  category  ...  \\\n",
       "0                 Finance, Accounting, & Procurement         7  ...   \n",
       "1                  Building Operations & Maintenance         2  ...   \n",
       "2  Administration & Human Resources Policy, Resea...         1  ...   \n",
       "3              Engineering, Architecture, & Planning         6  ...   \n",
       "4  Engineering, Architecture, & Planning Policy, ...         6  ...   \n",
       "\n",
       "                              additional_information  \\\n",
       "0  ***IN ORDER TO BE CONSIDERED FOR THIS POSITION...   \n",
       "1  This lateral opportunity is open to current Ci...   \n",
       "2  Employees applying for promotional, title or l...   \n",
       "3  Appointments are subject to OMB approval.  For...   \n",
       "4  DEP is an equal opportunity employer with a st...   \n",
       "\n",
       "                                            to_apply  \\\n",
       "0  All resumes to be submitted electronically usi...   \n",
       "1  Please submit your resume and cover letter.  P...   \n",
       "2                      Click the \"Apply Now\" button.   \n",
       "3                           Click \"Apply Now\" button   \n",
       "4  Click on â€œApply Nowâ€ and submit a resume a...   \n",
       "\n",
       "                     hours_shift  \\\n",
       "0          Office Hours: 9AM-5PM   \n",
       "1  Shift depends on the Command.   \n",
       "2                              0   \n",
       "3          40 hours per week/day   \n",
       "4              35 hours per week   \n",
       "\n",
       "                                     work_location_1  \\\n",
       "0                                  55 Water St Ny Ny   \n",
       "1  Positions are available in the following comma...   \n",
       "2                                                  0   \n",
       "3                                           Citywide   \n",
       "4                     59-17 Junction Blvd, Corona NY   \n",
       "\n",
       "                               residency_requirement             posting_date  \\\n",
       "0  New York City residency is generally required ...  2019-12-06T00:00:00.000   \n",
       "1  New York City residency is generally required ...  2019-12-09T00:00:00.000   \n",
       "2               NYCHA has no residency requirements.  2019-05-21T00:00:00.000   \n",
       "3  New York City residency is generally required ...  2019-06-10T00:00:00.000   \n",
       "4  New York City residency is generally required ...  2019-12-10T00:00:00.000   \n",
       "\n",
       "                post_until          posting_updated             process_date  \\\n",
       "0  2019-12-26T00:00:00.000  2019-12-06T00:00:00.000  2019-12-17T00:00:00.000   \n",
       "1  2020-01-23T00:00:00.000  2019-12-13T00:00:00.000  2019-12-17T00:00:00.000   \n",
       "2                        0  2019-07-30T00:00:00.000  2019-12-17T00:00:00.000   \n",
       "3                        0  2019-06-21T00:00:00.000  2019-12-17T00:00:00.000   \n",
       "4                        0  2019-12-10T00:00:00.000  2019-12-17T00:00:00.000   \n",
       "\n",
       "                                      processed_text  \n",
       "0  capital budget analyst order considered positi...  \n",
       "1  city custodial assistant candidate selected re...  \n",
       "2  assistant director budget personnel financial ...  \n",
       "3  plant chief department environmental protectio...  \n",
       "4  bureau energy manager department environmental...  \n",
       "\n",
       "[5 rows x 29 columns]"
      ]
     },
     "execution_count": 3,
     "metadata": {},
     "output_type": "execute_result"
    }
   ],
   "source": [
    "# Just to look at the data frame:\n",
    "DF_train.head()"
   ]
  },
  {
   "cell_type": "markdown",
   "metadata": {},
   "source": [
    "<h2>1. Label Coding</h2>\n",
    "Now create a dictionary with the label codification. These codes are already in our data set in the 'category' column. "
   ]
  },
  {
   "cell_type": "code",
   "execution_count": 4,
   "metadata": {},
   "outputs": [],
   "source": [
    "category_codes = {\n",
    "    'admin' : 1,\n",
    "    'maintenance' : 2,\n",
    "    'clerical' : 3,\n",
    "    'communications' : 4,\n",
    "    'community' : 5,\n",
    "    'engineering' : 6,\n",
    "    'finance' : 7,\n",
    "    'health' : 8,\n",
    "    'technology' : 9,\n",
    "    'legal' : 10,\n",
    "    'policy' : 11,\n",
    "    'public_safety' : 12\n",
    "}"
   ]
  },
  {
   "cell_type": "markdown",
   "metadata": {},
   "source": [
    "<h2>2. Text representation</h2>\n",
    "There are many different ways to represent the text we have, but we are going to choose a Bag of Words approach, specifically using TF-IDF vectors as features approach.  \n",
    "\n",
    "We have a few different tuning knobs for the TF-IDF vectors that we need to set:  \n",
    "* `ngram_range`:We want to consider both unigrams and bigrams.  \n",
    "* `max_df`:When building the vocabulary ignore terms that have a document frequency strictly higher than the given threshold  \n",
    "* `min_df`:When building the vocabulary ignore terms that have a document frequency strictly lower than the given threshold.  \n",
    "* `max_features`:If not None, build a vocabulary that only consider the top max_features ordered by term frequency across the corpus.  \n",
    "\n",
    "We are implicityly scaling our data when representing it as TF-IDF features with the argument `norm`."
   ]
  },
  {
   "cell_type": "code",
   "execution_count": 5,
   "metadata": {},
   "outputs": [],
   "source": [
    "# Parameter setup:\n",
    "ngram_range = (1,2) # Both unigrams and bigrams\n",
    "min_df = 10\n",
    "max_df = 1.\n",
    "max_features = 300"
   ]
  },
  {
   "cell_type": "markdown",
   "metadata": {},
   "source": [
    "These parameter values are a first approximation and can be changed later if required. \n",
    "\n",
    "Note: In this next block we fit and then transform the training set, but **only transform the validation set**. "
   ]
  },
  {
   "cell_type": "code",
   "execution_count": 6,
   "metadata": {},
   "outputs": [
    {
     "name": "stdout",
     "output_type": "stream",
     "text": [
      "(1328, 300)\n",
      "(331, 300)\n"
     ]
    }
   ],
   "source": [
    "# Set up the X and Y data for the training and validation sets\n",
    "X_train = DF_train['processed_text']\n",
    "Y_train = DF_train['category']\n",
    "\n",
    "X_test = DF_test['processed_text']\n",
    "Y_test = DF_test['category']\n",
    "\n",
    "\n",
    "# Set up the TF-IDF vectorizer object\n",
    "tfidf = TfidfVectorizer(encoding='utf-8',\n",
    "                        ngram_range=ngram_range,\n",
    "                        stop_words=None,\n",
    "                        lowercase=False,\n",
    "                        max_df=max_df,\n",
    "                        min_df=min_df,\n",
    "                        max_features=max_features,\n",
    "                        norm='l2',\n",
    "                        sublinear_tf=True)\n",
    "\n",
    "features_train = tfidf.fit_transform(X_train).toarray()\n",
    "labels_train = Y_train\n",
    "print(features_train.shape)\n",
    "\n",
    "features_test = tfidf.transform(X_test).toarray()\n",
    "labels_test = Y_test\n",
    "print(features_test.shape)"
   ]
  },
  {
   "cell_type": "markdown",
   "metadata": {},
   "source": [
    "We can use the Chi squared test in order to see what unigrams and bigrams are most correlated with each category: "
   ]
  },
  {
   "cell_type": "code",
   "execution_count": 7,
   "metadata": {},
   "outputs": [
    {
     "name": "stdout",
     "output_type": "stream",
     "text": [
      "# 'admin' category:\n",
      "  . Most correlated unigrams:\n",
      ". training\n",
      ". latitude\n",
      ". associate\n",
      ". personnel\n",
      ". administrative\n",
      "  . Most correlated bigrams:\n",
      ". design construction\n",
      ". project manager\n",
      "\n",
      "# 'clerical' category:\n",
      "  . Most correlated unigrams:\n",
      ". attorney\n",
      ". record\n",
      ". delivery\n",
      ". assigned\n",
      ". associate\n",
      "  . Most correlated bigrams:\n",
      ". civil service\n",
      ". special project\n",
      "\n",
      "# 'communications' category:\n",
      "  . Most correlated unigrams:\n",
      ". specialist\n",
      ". lead\n",
      ". stakeholder\n",
      ". strategy\n",
      ". communication\n",
      "  . Most correlated bigrams:\n",
      ". design construction\n",
      ". city agency\n",
      "\n",
      "# 'community' category:\n",
      "  . Most correlated unigrams:\n",
      ". housing\n",
      ". center\n",
      ". education\n",
      ". community\n",
      ". outreach\n",
      "  . Most correlated bigrams:\n",
      ". drinking water\n",
      ". per day\n",
      "\n",
      "# 'engineering' category:\n",
      "  . Most correlated unigrams:\n",
      ". water\n",
      ". design\n",
      ". construction\n",
      ". engineer\n",
      ". engineering\n",
      "  . Most correlated bigrams:\n",
      ". project manager\n",
      ". design construction\n",
      "\n",
      "# 'finance' category:\n",
      "  . Most correlated unigrams:\n",
      ". payment\n",
      ". procurement\n",
      ". budget\n",
      ". analyst\n",
      ". financial\n",
      "  . Most correlated bigrams:\n",
      ". project manager\n",
      ". special project\n",
      "\n",
      "# 'health' category:\n",
      "  . Most correlated unigrams:\n",
      ". case\n",
      ". family\n",
      ". health\n",
      ". child\n",
      ". care\n",
      "  . Most correlated bigrams:\n",
      ". civil service\n",
      ". public health\n",
      "\n",
      "# 'legal' category:\n",
      "  . Most correlated unigrams:\n",
      ". matter\n",
      ". law\n",
      ". court\n",
      ". legal\n",
      ". attorney\n",
      "  . Most correlated bigrams:\n",
      ". project manager\n",
      ". include limited\n",
      "\n",
      "# 'maintenance' category:\n",
      "  . Most correlated unigrams:\n",
      ". vehicle\n",
      ". clean\n",
      ". maintenance\n",
      ". equipment\n",
      ". repair\n",
      "  . Most correlated bigrams:\n",
      ". drinking water\n",
      ". per day\n",
      "\n",
      "# 'policy' category:\n",
      "  . Most correlated unigrams:\n",
      ". commission\n",
      ". vehicle\n",
      ". research\n",
      ". stakeholder\n",
      ". energy\n",
      "  . Most correlated bigrams:\n",
      ". civil service\n",
      ". design construction\n",
      "\n",
      "# 'public_safety' category:\n",
      "  . Most correlated unigrams:\n",
      ". field\n",
      ". code\n",
      ". investigation\n",
      ". inspection\n",
      ". enforcement\n",
      "  . Most correlated bigrams:\n",
      ". york city\n",
      ". city department\n",
      "\n",
      "# 'technology' category:\n",
      "  . Most correlated unigrams:\n",
      ". business\n",
      ". application\n",
      ". solution\n",
      ". security\n",
      ". technology\n",
      "  . Most correlated bigrams:\n",
      ". design construction\n",
      ". responsibility include\n",
      "\n"
     ]
    }
   ],
   "source": [
    "from sklearn.feature_selection import chi2\n",
    "import numpy as np\n",
    "\n",
    "for Product, category_id in sorted(category_codes.items()):\n",
    "    features_chi2 = chi2(features_train, labels_train == category_id)\n",
    "    indices = np.argsort(features_chi2[0])\n",
    "    feature_names = np.array(tfidf.get_feature_names())[indices]\n",
    "    unigrams = [v for v in feature_names if len(v.split(' ')) == 1]\n",
    "    bigrams = [v for v in feature_names if len(v.split(' ')) == 2]\n",
    "    print(\"# '{}' category:\".format(Product))\n",
    "    print(\"  . Most correlated unigrams:\\n. {}\".format('\\n. '.join(unigrams[-5:])))\n",
    "    print(\"  . Most correlated bigrams:\\n. {}\".format('\\n. '.join(bigrams[-2:])))\n",
    "    print(\"\")"
   ]
  },
  {
   "cell_type": "code",
   "execution_count": 8,
   "metadata": {},
   "outputs": [
    {
     "data": {
      "text/plain": [
       "['special project',\n",
       " 'new york',\n",
       " 'project manager',\n",
       " 'city department',\n",
       " 'city agency',\n",
       " 'york city',\n",
       " 'civil service',\n",
       " 'per day',\n",
       " 'include limited',\n",
       " 'high quality',\n",
       " 'country nearly',\n",
       " 'nearly employee',\n",
       " 'pollution combined',\n",
       " 'combined municipal',\n",
       " 'utility country',\n",
       " 'noise hazardous',\n",
       " 'reducing air',\n",
       " 'material pollution',\n",
       " 'quality drinking',\n",
       " 'municipal water',\n",
       " 'air noise',\n",
       " 'water utility',\n",
       " 'hazardous material',\n",
       " 'department environmental',\n",
       " 'water supply',\n",
       " 'environmental protection',\n",
       " 'billion gallon',\n",
       " 'water sewer',\n",
       " 'drinking water',\n",
       " 'public health',\n",
       " 'selected candidate',\n",
       " 'design construction',\n",
       " 'responsibility include']"
      ]
     },
     "execution_count": 8,
     "metadata": {},
     "output_type": "execute_result"
    }
   ],
   "source": [
    "# To see all of the bigrams produced:\n",
    "bigrams"
   ]
  },
  {
   "cell_type": "markdown",
   "metadata": {},
   "source": [
    "<h2>Cross-Validation for Hyperparameter Tuning</h2>\n",
    "First, we can see what hyperparameters the model has:  "
   ]
  },
  {
   "cell_type": "code",
   "execution_count": 9,
   "metadata": {},
   "outputs": [
    {
     "name": "stdout",
     "output_type": "stream",
     "text": [
      "Parameters currently in use:\n",
      "\n",
      "{'bootstrap': True,\n",
      " 'ccp_alpha': 0.0,\n",
      " 'class_weight': None,\n",
      " 'criterion': 'gini',\n",
      " 'max_depth': None,\n",
      " 'max_features': 'auto',\n",
      " 'max_leaf_nodes': None,\n",
      " 'max_samples': None,\n",
      " 'min_impurity_decrease': 0.0,\n",
      " 'min_impurity_split': None,\n",
      " 'min_samples_leaf': 1,\n",
      " 'min_samples_split': 2,\n",
      " 'min_weight_fraction_leaf': 0.0,\n",
      " 'n_estimators': 100,\n",
      " 'n_jobs': None,\n",
      " 'oob_score': False,\n",
      " 'random_state': 8,\n",
      " 'verbose': 0,\n",
      " 'warm_start': False}\n"
     ]
    }
   ],
   "source": [
    "rf_0 = RandomForestClassifier(random_state = 8)\n",
    "\n",
    "print('Parameters currently in use:\\n')\n",
    "pprint(rf_0.get_params())"
   ]
  },
  {
   "cell_type": "markdown",
   "metadata": {},
   "source": [
    "We'll tune the following ones:  \n",
    "\n",
    "* `n_estimators` = number of trees in the forest.  \n",
    "* `max_features` = max number of features considered for splitting a node  \n",
    "* `max_depth` = max number of levels in each decision tree  \n",
    "* `min_samples_split` = min number of data points placed in a node before the node is split  \n",
    "* `min_samples_leaf` = min number of data points allowed in a leaf node  \n",
    "* `bootstrap` = method for sampling data points (with or without replacement)  \n",
    "\n",
    "<h2>Randomized Search Cross Validation</h2>\n",
    "First define the grid:"
   ]
  },
  {
   "cell_type": "code",
   "execution_count": 10,
   "metadata": {},
   "outputs": [
    {
     "name": "stdout",
     "output_type": "stream",
     "text": [
      "{'bootstrap': [True, False],\n",
      " 'max_depth': [20, 40, 60, 80, 100, None],\n",
      " 'max_features': ['auto', 'sqrt'],\n",
      " 'min_samples_leaf': [1, 2, 4],\n",
      " 'min_samples_split': [2, 5, 10],\n",
      " 'n_estimators': [200, 400, 600, 800, 1000]}\n"
     ]
    }
   ],
   "source": [
    "# n_estimators\n",
    "n_estimators = [int(x) for x in np.linspace(start = 200, stop = 1000, num = 5)]\n",
    "\n",
    "# max_features\n",
    "max_features = ['auto', 'sqrt']\n",
    "\n",
    "# max_depth\n",
    "max_depth = [int(x) for x in np.linspace(20, 100, num = 5)]\n",
    "max_depth.append(None)\n",
    "\n",
    "# min_samples_split\n",
    "min_samples_split = [2, 5, 10]\n",
    "\n",
    "# min_samples_leaf\n",
    "min_samples_leaf = [1, 2, 4]\n",
    "\n",
    "# bootstrap\n",
    "bootstrap = [True, False]\n",
    "\n",
    "# Create the random grid\n",
    "random_grid = {'n_estimators': n_estimators,\n",
    "               'max_features': max_features,\n",
    "               'max_depth': max_depth,\n",
    "               'min_samples_split': min_samples_split,\n",
    "               'min_samples_leaf': min_samples_leaf,\n",
    "               'bootstrap': bootstrap}\n",
    "\n",
    "pprint(random_grid)"
   ]
  },
  {
   "cell_type": "markdown",
   "metadata": {},
   "source": [
    "Then, perform the Random Search:"
   ]
  },
  {
   "cell_type": "code",
   "execution_count": 11,
   "metadata": {
    "scrolled": true
   },
   "outputs": [
    {
     "name": "stdout",
     "output_type": "stream",
     "text": [
      "Fitting 5 folds for each of 50 candidates, totalling 250 fits\n"
     ]
    },
    {
     "name": "stderr",
     "output_type": "stream",
     "text": [
      "[Parallel(n_jobs=3)]: Using backend LokyBackend with 3 concurrent workers.\n",
      "[Parallel(n_jobs=3)]: Done  44 tasks      | elapsed:   50.5s\n",
      "[Parallel(n_jobs=3)]: Done 194 tasks      | elapsed:  3.5min\n",
      "[Parallel(n_jobs=3)]: Done 250 out of 250 | elapsed:  4.5min finished\n"
     ]
    },
    {
     "data": {
      "text/plain": [
       "RandomizedSearchCV(cv=5, error_score=nan,\n",
       "                   estimator=RandomForestClassifier(bootstrap=True,\n",
       "                                                    ccp_alpha=0.0,\n",
       "                                                    class_weight=None,\n",
       "                                                    criterion='gini',\n",
       "                                                    max_depth=None,\n",
       "                                                    max_features='auto',\n",
       "                                                    max_leaf_nodes=None,\n",
       "                                                    max_samples=None,\n",
       "                                                    min_impurity_decrease=0.0,\n",
       "                                                    min_impurity_split=None,\n",
       "                                                    min_samples_leaf=1,\n",
       "                                                    min_samples_split=2,\n",
       "                                                    min_weight_fraction_leaf=0.0,\n",
       "                                                    n_estimators=100,\n",
       "                                                    n_jobs...\n",
       "                                                    warm_start=False),\n",
       "                   iid='deprecated', n_iter=50, n_jobs=3,\n",
       "                   param_distributions={'bootstrap': [True, False],\n",
       "                                        'max_depth': [20, 40, 60, 80, 100,\n",
       "                                                      None],\n",
       "                                        'max_features': ['auto', 'sqrt'],\n",
       "                                        'min_samples_leaf': [1, 2, 4],\n",
       "                                        'min_samples_split': [2, 5, 10],\n",
       "                                        'n_estimators': [200, 400, 600, 800,\n",
       "                                                         1000]},\n",
       "                   pre_dispatch='2*n_jobs', random_state=8, refit=True,\n",
       "                   return_train_score=False, scoring='accuracy', verbose=1)"
      ]
     },
     "execution_count": 11,
     "metadata": {},
     "output_type": "execute_result"
    }
   ],
   "source": [
    "# First create the base model to tune\n",
    "rfc = RandomForestClassifier(random_state=8)\n",
    "\n",
    "# Definition of the random search\n",
    "random_search = RandomizedSearchCV(estimator=rfc,\n",
    "                                   param_distributions=random_grid,\n",
    "                                   n_iter=50,\n",
    "                                   scoring='accuracy',\n",
    "                                   cv=5, \n",
    "                                   verbose=1, \n",
    "                                   random_state=8,\n",
    "                                   n_jobs = 3)\n",
    "\n",
    "# Fit the random search model\n",
    "random_search.fit(features_train, labels_train)"
   ]
  },
  {
   "cell_type": "markdown",
   "metadata": {},
   "source": [
    "You can check the best hyperparameters with the code below:"
   ]
  },
  {
   "cell_type": "code",
   "execution_count": 12,
   "metadata": {},
   "outputs": [
    {
     "name": "stdout",
     "output_type": "stream",
     "text": [
      "The best hyperparameters from Random Search are:\n",
      "{'n_estimators': 1000, 'min_samples_split': 2, 'min_samples_leaf': 2, 'max_features': 'sqrt', 'max_depth': 40, 'bootstrap': False}\n",
      "\n",
      "The mean accuracy of a model with these hyperparameters is:\n",
      "0.7198808341608739\n"
     ]
    }
   ],
   "source": [
    "print(\"The best hyperparameters from Random Search are:\")\n",
    "print(random_search.best_params_)\n",
    "print(\"\")\n",
    "print(\"The mean accuracy of a model with these hyperparameters is:\")\n",
    "print(random_search.best_score_)"
   ]
  },
  {
   "cell_type": "markdown",
   "metadata": {},
   "source": [
    "<h2>Grid Search Cross Validation</h2>"
   ]
  },
  {
   "cell_type": "code",
   "execution_count": 13,
   "metadata": {},
   "outputs": [
    {
     "name": "stdout",
     "output_type": "stream",
     "text": [
      "Fitting 5 folds for each of 27 candidates, totalling 135 fits\n"
     ]
    },
    {
     "name": "stderr",
     "output_type": "stream",
     "text": [
      "[Parallel(n_jobs=3)]: Using backend LokyBackend with 3 concurrent workers.\n",
      "[Parallel(n_jobs=3)]: Done  44 tasks      | elapsed:  1.5min\n",
      "[Parallel(n_jobs=3)]: Done 135 out of 135 | elapsed:  4.4min finished\n"
     ]
    },
    {
     "data": {
      "text/plain": [
       "GridSearchCV(cv=ShuffleSplit(n_splits=5, random_state=8, test_size=0.2, train_size=None),\n",
       "             error_score=nan,\n",
       "             estimator=RandomForestClassifier(bootstrap=True, ccp_alpha=0.0,\n",
       "                                              class_weight=None,\n",
       "                                              criterion='gini', max_depth=None,\n",
       "                                              max_features='auto',\n",
       "                                              max_leaf_nodes=None,\n",
       "                                              max_samples=None,\n",
       "                                              min_impurity_decrease=0.0,\n",
       "                                              min_impurity_split=None,\n",
       "                                              min_samples_leaf=1,\n",
       "                                              min_sample...\n",
       "                                              n_estimators=100, n_jobs=None,\n",
       "                                              oob_score=False, random_state=8,\n",
       "                                              verbose=0, warm_start=False),\n",
       "             iid='deprecated', n_jobs=3,\n",
       "             param_grid={'bootstrap': [False], 'max_depth': [30, 40, 50],\n",
       "                         'max_features': ['sqrt'],\n",
       "                         'min_samples_leaf': [1, 2, 4],\n",
       "                         'min_samples_split': [5, 10, 15],\n",
       "                         'n_estimators': [1000]},\n",
       "             pre_dispatch='2*n_jobs', refit=True, return_train_score=False,\n",
       "             scoring='accuracy', verbose=1)"
      ]
     },
     "execution_count": 13,
     "metadata": {},
     "output_type": "execute_result"
    }
   ],
   "source": [
    "# Create the parameter grid based on the results of random search \n",
    "bootstrap = [False]\n",
    "max_depth = [30, 40, 50]\n",
    "max_features = ['sqrt']\n",
    "min_samples_leaf = [1, 2, 4]\n",
    "min_samples_split = [5, 10, 15]\n",
    "n_estimators = [1000]\n",
    "\n",
    "param_grid = {\n",
    "    'bootstrap': bootstrap,\n",
    "    'max_depth': max_depth,\n",
    "    'max_features': max_features,\n",
    "    'min_samples_leaf': min_samples_leaf,\n",
    "    'min_samples_split': min_samples_split,\n",
    "    'n_estimators': n_estimators\n",
    "}\n",
    "\n",
    "# Create a base model\n",
    "rfc = RandomForestClassifier(random_state=8)\n",
    "\n",
    "# Manually create the splits in CV in order to be able to fix a random_state (GridSearchCV doesn't have that argument)\n",
    "cv_sets = ShuffleSplit(n_splits = 5, test_size = .2, random_state = 8)\n",
    "\n",
    "# Instantiate the grid search model\n",
    "grid_search = GridSearchCV(estimator=rfc, \n",
    "                           param_grid=param_grid,\n",
    "                           scoring='accuracy',\n",
    "                           cv=cv_sets,\n",
    "                           verbose=1,\n",
    "                           n_jobs = 3\n",
    "                          )\n",
    "\n",
    "# Fit the grid search to the data\n",
    "grid_search.fit(features_train, labels_train)"
   ]
  },
  {
   "cell_type": "markdown",
   "metadata": {},
   "source": [
    "Again lets print out the results of the best hyperparameters:"
   ]
  },
  {
   "cell_type": "code",
   "execution_count": 14,
   "metadata": {},
   "outputs": [
    {
     "name": "stdout",
     "output_type": "stream",
     "text": [
      "The best hyperparameters from Grid Search are:\n",
      "{'bootstrap': False, 'max_depth': 50, 'max_features': 'sqrt', 'min_samples_leaf': 1, 'min_samples_split': 5, 'n_estimators': 1000}\n",
      "\n",
      "The mean accuracy of a model with these hyperparameters is:\n",
      "0.7090225563909774\n"
     ]
    }
   ],
   "source": [
    "print(\"The best hyperparameters from Grid Search are:\")\n",
    "print(grid_search.best_params_)\n",
    "print(\"\")\n",
    "print(\"The mean accuracy of a model with these hyperparameters is:\")\n",
    "print(grid_search.best_score_)"
   ]
  },
  {
   "cell_type": "markdown",
   "metadata": {},
   "source": [
    "And let's save the model in a variable called best_rfc here:"
   ]
  },
  {
   "cell_type": "code",
   "execution_count": 15,
   "metadata": {},
   "outputs": [],
   "source": [
    "best_rfc = grid_search.best_estimator_"
   ]
  },
  {
   "cell_type": "code",
   "execution_count": 16,
   "metadata": {},
   "outputs": [
    {
     "data": {
      "text/plain": [
       "RandomForestClassifier(bootstrap=False, ccp_alpha=0.0, class_weight=None,\n",
       "                       criterion='gini', max_depth=50, max_features='sqrt',\n",
       "                       max_leaf_nodes=None, max_samples=None,\n",
       "                       min_impurity_decrease=0.0, min_impurity_split=None,\n",
       "                       min_samples_leaf=1, min_samples_split=5,\n",
       "                       min_weight_fraction_leaf=0.0, n_estimators=1000,\n",
       "                       n_jobs=None, oob_score=False, random_state=8, verbose=0,\n",
       "                       warm_start=False)"
      ]
     },
     "execution_count": 16,
     "metadata": {},
     "output_type": "execute_result"
    }
   ],
   "source": [
    "# We can call this to have a look at our current parameter settings:\n",
    "best_rfc"
   ]
  },
  {
   "cell_type": "markdown",
   "metadata": {},
   "source": [
    "<h2>Model Fit and Performance</h2>\n",
    "Now we can fit the model to our training data:"
   ]
  },
  {
   "cell_type": "code",
   "execution_count": 17,
   "metadata": {},
   "outputs": [
    {
     "data": {
      "text/plain": [
       "RandomForestClassifier(bootstrap=False, ccp_alpha=0.0, class_weight=None,\n",
       "                       criterion='gini', max_depth=50, max_features='sqrt',\n",
       "                       max_leaf_nodes=None, max_samples=None,\n",
       "                       min_impurity_decrease=0.0, min_impurity_split=None,\n",
       "                       min_samples_leaf=1, min_samples_split=5,\n",
       "                       min_weight_fraction_leaf=0.0, n_estimators=1000,\n",
       "                       n_jobs=None, oob_score=False, random_state=8, verbose=0,\n",
       "                       warm_start=False)"
      ]
     },
     "execution_count": 17,
     "metadata": {},
     "output_type": "execute_result"
    }
   ],
   "source": [
    "best_rfc.fit(features_train, labels_train)"
   ]
  },
  {
   "cell_type": "markdown",
   "metadata": {},
   "source": [
    "Now get the predictions:"
   ]
  },
  {
   "cell_type": "code",
   "execution_count": 18,
   "metadata": {},
   "outputs": [],
   "source": [
    "rfc_pred = best_rfc.predict(features_test)"
   ]
  },
  {
   "cell_type": "markdown",
   "metadata": {},
   "source": [
    "If you wanted the conditional class probabilities they could be obtained by typing:\n",
    "\n",
    "rfc_pred = best_rfc.predict_proba(features_test)\n",
    "\n",
    "For performance analysis, we will use the confusion matrix, the classification report and the accuracy on both training and test data:\n",
    "\n",
    "**Training Accuracy**"
   ]
  },
  {
   "cell_type": "code",
   "execution_count": 19,
   "metadata": {},
   "outputs": [
    {
     "name": "stdout",
     "output_type": "stream",
     "text": [
      "The training accuracy is: \n",
      "0.9962349397590361\n"
     ]
    }
   ],
   "source": [
    "# Training accuracy\n",
    "print(\"The training accuracy is: \")\n",
    "print(accuracy_score(labels_train, best_rfc.predict(features_train)))"
   ]
  },
  {
   "cell_type": "markdown",
   "metadata": {},
   "source": [
    "**Test Accuracy**"
   ]
  },
  {
   "cell_type": "code",
   "execution_count": 20,
   "metadata": {},
   "outputs": [
    {
     "name": "stdout",
     "output_type": "stream",
     "text": [
      "The test accuracy is: \n",
      "0.7462235649546828\n"
     ]
    }
   ],
   "source": [
    "# Test accuracy\n",
    "print(\"The test accuracy is: \")\n",
    "print(accuracy_score(labels_test, rfc_pred))"
   ]
  },
  {
   "cell_type": "markdown",
   "metadata": {},
   "source": [
    "**Classification Report**\n",
    "Remember our classes are:\n",
    "'admin' : 1,\n",
    "'maintenance' : 2,\n",
    "'clerical' : 3,\n",
    "'communications' : 4,\n",
    "'community' : 5,\n",
    "'engineering' : 6,\n",
    "'finance' : 7,\n",
    "'health' : 8,\n",
    "'technology' : 9,\n",
    "'legal' : 10,\n",
    "'policy' : 11,\n",
    "'public_safety' : 12"
   ]
  },
  {
   "cell_type": "code",
   "execution_count": 24,
   "metadata": {},
   "outputs": [
    {
     "name": "stdout",
     "output_type": "stream",
     "text": [
      "Classification report\n",
      "              precision    recall  f1-score   support\n",
      "\n",
      "           1       0.56      0.51      0.54        35\n",
      "           2       0.82      0.61      0.70        23\n",
      "           3       0.00      0.00      0.00         4\n",
      "           4       0.50      0.20      0.29         5\n",
      "           5       0.82      0.56      0.67        32\n",
      "           6       0.76      0.99      0.86        72\n",
      "           7       0.82      0.72      0.77        25\n",
      "           8       0.79      0.85      0.82        27\n",
      "           9       0.76      0.95      0.85        41\n",
      "          10       0.74      0.76      0.75        33\n",
      "          11       0.78      0.41      0.54        17\n",
      "          12       0.65      0.76      0.70        17\n",
      "\n",
      "    accuracy                           0.75       331\n",
      "   macro avg       0.67      0.61      0.62       331\n",
      "weighted avg       0.74      0.75      0.73       331\n",
      "\n"
     ]
    }
   ],
   "source": [
    "# Classification report\n",
    "print(\"Classification report\")\n",
    "print(classification_report(labels_test,rfc_pred, zero_division = 0))"
   ]
  },
  {
   "cell_type": "markdown",
   "metadata": {},
   "source": [
    "**Confusion Matrix**"
   ]
  },
  {
   "cell_type": "code",
   "execution_count": 25,
   "metadata": {},
   "outputs": [
    {
     "data": {
      "text/plain": [
       "dict_keys(['admin', 'maintenance', 'clerical', 'communications', 'community', 'engineering', 'finance', 'health', 'technology', 'legal', 'policy', 'public_safety'])"
      ]
     },
     "execution_count": 25,
     "metadata": {},
     "output_type": "execute_result"
    }
   ],
   "source": [
    "category_codes.keys()"
   ]
  },
  {
   "cell_type": "code",
   "execution_count": 33,
   "metadata": {},
   "outputs": [
    {
     "data": {
      "image/png": "[encoded data removed]",
      "text/plain": [
       "<Figure size 1152x720 with 2 Axes>"
      ]
     },
     "metadata": {
      "needs_background": "light"
     },
     "output_type": "display_data"
    }
   ],
   "source": [
    "conf_matrix = confusion_matrix(labels_test, rfc_pred)\n",
    "plt.figure(figsize=(16,10))\n",
    "sns.heatmap(conf_matrix, \n",
    "            annot=True,\n",
    "            xticklabels=category_codes.keys(), \n",
    "            yticklabels=category_codes.keys(),\n",
    "            cmap=\"Blues\")\n",
    "plt.ylabel('Predicted')\n",
    "plt.xlabel('Actual')\n",
    "plt.title('Confusion matrix')\n",
    "plt.show()"
   ]
  },
  {
   "cell_type": "markdown",
   "metadata": {},
   "source": [
    "Now we can check to see if they hyperparameter tuning process returned a better model:"
   ]
  },
  {
   "cell_type": "code",
   "execution_count": 27,
   "metadata": {},
   "outputs": [
    {
     "data": {
      "text/plain": [
       "0.7341389728096677"
      ]
     },
     "execution_count": 27,
     "metadata": {},
     "output_type": "execute_result"
    }
   ],
   "source": [
    "base_model = RandomForestClassifier(random_state = 8)\n",
    "base_model.fit(features_train, labels_train)\n",
    "accuracy_score(labels_test, base_model.predict(features_test))"
   ]
  },
  {
   "cell_type": "code",
   "execution_count": 28,
   "metadata": {},
   "outputs": [
    {
     "data": {
      "text/plain": [
       "0.7462235649546828"
      ]
     },
     "execution_count": 28,
     "metadata": {},
     "output_type": "execute_result"
    }
   ],
   "source": [
    "best_rfc.fit(features_train, labels_train)\n",
    "accuracy_score(labels_test, best_rfc.predict(features_test))"
   ]
  },
  {
   "cell_type": "markdown",
   "metadata": {},
   "source": [
    "We can create a dataset with a model summary to compare the models later:"
   ]
  },
  {
   "cell_type": "code",
   "execution_count": 29,
   "metadata": {},
   "outputs": [],
   "source": [
    "d = {\n",
    "     'Model': 'Random Forest',\n",
    "     'Training Set Accuracy': accuracy_score(labels_train, best_rfc.predict(features_train)),\n",
    "     'Test Set Accuracy': accuracy_score(labels_test, rfc_pred)\n",
    "}\n",
    "\n",
    "df_models_rfc = pd.DataFrame(d, index=[0])"
   ]
  },
  {
   "cell_type": "code",
   "execution_count": 30,
   "metadata": {},
   "outputs": [
    {
     "data": {
      "text/html": [
       "<div>\n",
       "<style scoped>\n",
       "    .dataframe tbody tr th:only-of-type {\n",
       "        vertical-align: middle;\n",
       "    }\n",
       "\n",
       "    .dataframe tbody tr th {\n",
       "        vertical-align: top;\n",
       "    }\n",
       "\n",
       "    .dataframe thead th {\n",
       "        text-align: right;\n",
       "    }\n",
       "</style>\n",
       "<table border=\"1\" class=\"dataframe\">\n",
       "  <thead>\n",
       "    <tr style=\"text-align: right;\">\n",
       "      <th></th>\n",
       "      <th>Model</th>\n",
       "      <th>Training Set Accuracy</th>\n",
       "      <th>Test Set Accuracy</th>\n",
       "    </tr>\n",
       "  </thead>\n",
       "  <tbody>\n",
       "    <tr>\n",
       "      <th>0</th>\n",
       "      <td>Random Forest</td>\n",
       "      <td>0.996235</td>\n",
       "      <td>0.746224</td>\n",
       "    </tr>\n",
       "  </tbody>\n",
       "</table>\n",
       "</div>"
      ],
      "text/plain": [
       "           Model  Training Set Accuracy  Test Set Accuracy\n",
       "0  Random Forest               0.996235           0.746224"
      ]
     },
     "execution_count": 30,
     "metadata": {},
     "output_type": "execute_result"
    }
   ],
   "source": [
    "df_models_rfc"
   ]
  },
  {
   "cell_type": "markdown",
   "metadata": {},
   "source": [
    "We can also save the model and the data set with pickle:"
   ]
  },
  {
   "cell_type": "code",
   "execution_count": 32,
   "metadata": {},
   "outputs": [],
   "source": [
    "with open('Models/best_rfc.pickle', 'wb') as output:\n",
    "    pickle.dump(best_rfc, output)\n",
    "    \n",
    "with open('Models/df_models_rfc.pickle', 'wb') as output:\n",
    "    pickle.dump(df_models_rfc, output)"
   ]
  },
  {
   "cell_type": "markdown",
   "metadata": {},
   "source": [
    "The following site had some promising information to further produce graphs for the grid search cross validation. \n",
    "https://stackoverflow.com/questions/37161563/how-to-graph-grid-scores-from-gridsearchcv"
   ]
  }
 ],
 "metadata": {
  "kernelspec": {
   "display_name": "Python 3",
   "language": "python",
   "name": "python3"
  },
  "language_info": {
   "codemirror_mode": {
    "name": "ipython",
    "version": 3
   },
   "file_extension": ".py",
   "mimetype": "text/x-python",
   "name": "python",
   "nbconvert_exporter": "python",
   "pygments_lexer": "ipython3",
   "version": "3.7.6"
  }
 },
 "nbformat": 4,
 "nbformat_minor": 4
}
